{
  "nbformat": 4,
  "nbformat_minor": 0,
  "metadata": {
    "colab": {
      "name": "jiant MNLI Diagnostic Example",
      "provenance": [],
      "collapsed_sections": []
    },
    "kernelspec": {
      "name": "python3",
      "display_name": "Python 3"
    },
    "accelerator": "GPU"
  },
  "cells": [
    {
      "cell_type": "markdown",
      "metadata": {
        "id": "O9I9rz0pTamX",
        "colab_type": "text"
      },
      "source": [
        "# MNLI Diagnostic Example"
      ]
    },
    {
      "cell_type": "markdown",
      "metadata": {
        "id": "rXbD_U1_VDnw",
        "colab_type": "text"
      },
      "source": [
        "## Setup"
      ]
    },
    {
      "cell_type": "markdown",
      "metadata": {
        "id": "tC9teoazUnW8",
        "colab_type": "text"
      },
      "source": [
        "#### Install dependencies"
      ]
    },
    {
      "cell_type": "code",
      "metadata": {
        "id": "8aU3Z9szuMU9",
        "colab_type": "code",
        "colab": {}
      },
      "source": [
        "%%capture\n",
        "!git clone https://github.com/jiant-dev/jiant.git"
      ],
      "execution_count": null,
      "outputs": []
    },
    {
      "cell_type": "code",
      "metadata": {
        "id": "hMUKEH2YvFPv",
        "colab_type": "code",
        "colab": {}
      },
      "source": [
        "%%capture\n",
        "# This Colab notebook already has its CUDA-runtime compatible versions of torch and torchvision installed\n",
        "!sed -e /\"torch==1.5.0\"/d -i jiant/requirements.txt\n",
        "!sed -e /\"torchvision==0.6.0\"/d -i jiant/requirements.txt\n",
        "!pip install -r jiant/requirements.txt"
      ],
      "execution_count": null,
      "outputs": []
    },
    {
      "cell_type": "markdown",
      "metadata": {
        "id": "KGJcCmRzU1Qb",
        "colab_type": "text"
      },
      "source": [
        "#### Download data"
      ]
    },
    {
      "cell_type": "code",
      "metadata": {
        "id": "jKCz8VksvFlN",
        "colab_type": "code",
        "colab": {}
      },
      "source": [
        "%%capture\n",
        "# Download/preprocess MNLI and RTE data\n",
        "!wget https://raw.githubusercontent.com/huggingface/transformers/master/utils/download_glue_data.py\n",
        "!python download_glue_data.py \\\n",
        "    --data_dir ./raw_data \\\n",
        "    --tasks \"MNLI,diagnostic\"\n",
        "!PYTHONPATH=/content/jiant python jiant/jiant/scripts/preproc/export_glue_data.py \\\n",
        "    --input_base_path=./raw_data \\\n",
        "    --output_base_path=./tasks/ \\\n",
        "    --task_name_ls \"mnli,glue_diagnostic\""
      ],
      "execution_count": null,
      "outputs": []
    },
    {
      "cell_type": "markdown",
      "metadata": {
        "id": "rQKSAhYzVIlv",
        "colab_type": "text"
      },
      "source": [
        "## `jiant` Pipeline"
      ]
    },
    {
      "cell_type": "code",
      "metadata": {
        "id": "v88oXqmBvFuK",
        "colab_type": "code",
        "colab": {}
      },
      "source": [
        "import sys\n",
        "sys.path.insert(0, \"/content/jiant\")"
      ],
      "execution_count": null,
      "outputs": []
    },
    {
      "cell_type": "code",
      "metadata": {
        "id": "ibmMT7CXv1_P",
        "colab_type": "code",
        "colab": {}
      },
      "source": [
        "import jiant.proj.main.tokenize_and_cache as tokenize_and_cache\n",
        "import jiant.proj.main.export_model as export_model\n",
        "import jiant.proj.main.scripts.configurator as configurator\n",
        "import jiant.proj.main.runscript as main_runscript\n",
        "import jiant.shared.caching as caching\n",
        "import jiant.utils.python.io as py_io\n",
        "import jiant.utils.display as display\n",
        "import os\n",
        "import torch"
      ],
      "execution_count": null,
      "outputs": []
    },
    {
      "cell_type": "markdown",
      "metadata": {
        "id": "7beulo72VM0L",
        "colab_type": "text"
      },
      "source": [
        "#### Task config"
      ]
    },
    {
      "cell_type": "code",
      "metadata": {
        "id": "EKPSILRyIFhX",
        "colab_type": "code",
        "colab": {}
      },
      "source": [
        "# Write MNLI task config\n",
        "py_io.write_json({\n",
        "    \"task\": \"mnli\",\n",
        "    \"name\": \"mnli\",\n",
        "    \"paths\": {\n",
        "        \"train\": \"/content/tasks/data/mnli/train.jsonl\",\n",
        "        \"val\": \"/content/tasks/data/mnli/val.jsonl\",\n",
        "    },\n",
        "}, path=\"./tasks/configs/mnli_config.json\")\n",
        "\n",
        "# Write MNLI-mismatched task config\n",
        "py_io.write_json({\n",
        "    \"task\": \"mnli\",\n",
        "    \"name\": \"mnli_mismatched\",\n",
        "    \"paths\": {\n",
        "        \"val\": \"/content/tasks/data/mnli/val_mismatched.jsonl\",\n",
        "    },\n",
        "}, path=\"./tasks/configs/mnli_mismatched_config.json\")\n",
        "\n",
        "# Write GLUE diagnostic task config\n",
        "py_io.write_json({\n",
        "    \"task\": \"mnli\",\n",
        "    \"name\": \"glue_diagnostic\",\n",
        "    \"paths\": {\n",
        "        \"test\": \"/content/tasks/data/glue_diagnostic/test.jsonl\",\n",
        "    },\n",
        "}, path=\"./tasks/configs/glue_diagnostic_config.json\")"
      ],
      "execution_count": null,
      "outputs": []
    },
    {
      "cell_type": "markdown",
      "metadata": {
        "id": "HPZHyLOlVp07",
        "colab_type": "text"
      },
      "source": [
        "#### Download model"
      ]
    },
    {
      "cell_type": "code",
      "metadata": {
        "id": "K06qUGjkKWa7",
        "colab_type": "code",
        "colab": {}
      },
      "source": [
        "export_model.lookup_and_export_model(\n",
        "    model_type=\"roberta-base\",\n",
        "    output_base_path=\"./models/roberta-base\",\n",
        ")"
      ],
      "execution_count": null,
      "outputs": []
    },
    {
      "cell_type": "markdown",
      "metadata": {
        "id": "dV-T-8r1V0wf",
        "colab_type": "text"
      },
      "source": [
        "#### Tokenize and cache\n"
      ]
    },
    {
      "cell_type": "code",
      "metadata": {
        "id": "22bNWQajO4zm",
        "colab_type": "code",
        "colab": {}
      },
      "source": [
        "# Tokenize and cache each task\n",
        "tokenize_and_cache.main(tokenize_and_cache.RunConfiguration(\n",
        "    task_config_path=f\"./tasks/configs/mnli_config.json\",\n",
        "    model_type=\"roberta-base\",\n",
        "    model_tokenizer_path=\"./models/roberta-base/tokenizer\",\n",
        "    output_dir=f\"./cache/mnli\",\n",
        "    phases=[\"train\", \"val\"],\n",
        "))\n",
        "\n",
        "tokenize_and_cache.main(tokenize_and_cache.RunConfiguration(\n",
        "    task_config_path=f\"./tasks/configs/mnli_mismatched_config.json\",\n",
        "    model_type=\"roberta-base\",\n",
        "    model_tokenizer_path=\"./models/roberta-base/tokenizer\",\n",
        "    output_dir=f\"./cache/mnli_mismatched\",\n",
        "    phases=[\"val\"],\n",
        "))\n",
        "\n",
        "tokenize_and_cache.main(tokenize_and_cache.RunConfiguration(\n",
        "    task_config_path=f\"./tasks/configs/glue_diagnostic_config.json\",\n",
        "    model_type=\"roberta-base\",\n",
        "    model_tokenizer_path=\"./models/roberta-base/tokenizer\",\n",
        "    output_dir=f\"./cache/glue_diagnostic\",\n",
        "    phases=[\"test\"],\n",
        "))"
      ],
      "execution_count": null,
      "outputs": []
    },
    {
      "cell_type": "code",
      "metadata": {
        "id": "iLk_X0KypUyr",
        "colab_type": "code",
        "colab": {}
      },
      "source": [
        "row = caching.ChunkedFilesDataCache(\"./cache/mnli/train\").load_chunk(0)[0][\"data_row\"]\n",
        "print(row.input_ids)\n",
        "print(row.tokens)"
      ],
      "execution_count": null,
      "outputs": []
    },
    {
      "cell_type": "code",
      "metadata": {
        "id": "2n00e6Xrp1bI",
        "colab_type": "code",
        "colab": {}
      },
      "source": [
        "row = caching.ChunkedFilesDataCache(\"./cache/mnli_mismatched/val\").load_chunk(0)[0][\"data_row\"]\n",
        "print(row.input_ids)\n",
        "print(row.tokens)"
      ],
      "execution_count": null,
      "outputs": []
    },
    {
      "cell_type": "code",
      "metadata": {
        "id": "cjwnG_xXCelU",
        "colab_type": "code",
        "colab": {}
      },
      "source": [
        "row = caching.ChunkedFilesDataCache(\"./cache/glue_diagnostic/test\").load_chunk(0)[0][\"data_row\"]\n",
        "print(row.input_ids)\n",
        "print(row.tokens)"
      ],
      "execution_count": null,
      "outputs": []
    },
    {
      "cell_type": "markdown",
      "metadata": {
        "id": "3MBuH19IWOr0",
        "colab_type": "text"
      },
      "source": [
        "#### Writing a run config"
      ]
    },
    {
      "cell_type": "code",
      "metadata": {
        "id": "pQYtl7xTKsiP",
        "colab_type": "code",
        "colab": {}
      },
      "source": [
        "jiant_run_config = configurator.SimpleAPIMultiTaskConfigurator(\n",
        "    task_config_base_path=\"./tasks/configs\",\n",
        "    task_cache_base_path=\"./cache\",\n",
        "    train_task_name_list=[\"mnli\"],\n",
        "    val_task_name_list=[\"mnli\", \"mnli_mismatched\"],\n",
        "    test_task_name_list=[\"glue_diagnostic\"],\n",
        "    train_batch_size=8,\n",
        "    eval_batch_size=16,\n",
        "    epochs=0.1,\n",
        "    num_gpus=1,\n",
        ").create_config()\n",
        "display.show_json(jiant_run_config)"
      ],
      "execution_count": null,
      "outputs": []
    },
    {
      "cell_type": "markdown",
      "metadata": {
        "id": "usn2oQo8ILwi",
        "colab_type": "text"
      },
      "source": [
        "Configure all three tasks to use an `mnli` head."
      ]
    },
    {
      "cell_type": "code",
      "metadata": {
        "id": "624iqo12Gs7D",
        "colab_type": "code",
        "colab": {}
      },
      "source": [
        "jiant_run_config[\"taskmodels_config\"][\"task_to_taskmodel_map\"] = {\n",
        "    \"mnli\": \"mnli\",\n",
        "    \"mnli_mismatched\": \"mnli\",\n",
        "    \"glue_diagnostic\": \"mnli\",\n",
        "}\n",
        "os.makedirs(\"./run_configs/\", exist_ok=True)\n",
        "py_io.write_json(jiant_run_config, \"./run_configs/jiant_run_config.json\")"
      ],
      "execution_count": null,
      "outputs": []
    },
    {
      "cell_type": "markdown",
      "metadata": {
        "id": "BBKkvXzdYPqZ",
        "colab_type": "text"
      },
      "source": [
        "#### Start training"
      ]
    },
    {
      "cell_type": "code",
      "metadata": {
        "id": "JdwWPgjQWx6I",
        "colab_type": "code",
        "colab": {}
      },
      "source": [
        "run_args = main_runscript.RunConfiguration(\n",
        "    jiant_task_container_config_path=\"./run_configs/jiant_run_config.json\",\n",
        "    output_dir=\"./runs/run1\",\n",
        "    model_type=\"roberta-base\",\n",
        "    model_path=\"./models/roberta-base/model/roberta-base.p\",\n",
        "    model_config_path=\"./models/roberta-base/model/roberta-base.json\",\n",
        "    model_tokenizer_path=\"./models/roberta-base/tokenizer\",\n",
        "    learning_rate=1e-5,\n",
        "    eval_every_steps=500,\n",
        "    do_train=True,\n",
        "    do_val=True,\n",
        "    do_save=True,\n",
        "    write_test_preds=True,\n",
        "    force_overwrite=True,\n",
        ")\n",
        "main_runscript.run_loop(run_args)"
      ],
      "execution_count": null,
      "outputs": []
    },
    {
      "cell_type": "code",
      "metadata": {
        "id": "jOxAmtQmHu9E",
        "colab_type": "code",
        "colab": {}
      },
      "source": [
        "test_preds = torch.load(\"./runs/run1/test_preds.p\")\n",
        "test_preds[\"glue_diagnostic\"]"
      ],
      "execution_count": null,
      "outputs": []
    }
  ]
}